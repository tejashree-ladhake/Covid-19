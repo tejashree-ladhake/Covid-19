{
 "cells": [
  {
   "cell_type": "markdown",
   "metadata": {},
   "source": [
    "# Covid-19 Daily Reports "
   ]
  },
  {
   "cell_type": "markdown",
   "metadata": {},
   "source": [
    "### Import the required packages"
   ]
  },
  {
   "cell_type": "code",
   "execution_count": 1,
   "metadata": {},
   "outputs": [],
   "source": [
    "import os\n",
    "import glob\n",
    "import pandas as pd\n",
    "import numpy as np\n",
    "import csv\n",
    "import calendar"
   ]
  },
  {
   "cell_type": "code",
   "execution_count": 2,
   "metadata": {},
   "outputs": [
    {
     "data": {
      "text/plain": [
       "b'/Users/tejashree/Desktop/Data Science Projects/COVID-19-master/csse_covid_19_data/csse_covid_19_daily_reports'"
      ]
     },
     "execution_count": 2,
     "metadata": {},
     "output_type": "execute_result"
    }
   ],
   "source": [
    "os.getcwdb()      #check the current working directory"
   ]
  },
  {
   "cell_type": "code",
   "execution_count": 3,
   "metadata": {},
   "outputs": [],
   "source": [
    "os.chdir(os.getcwdb())   # set the current working directory path to os"
   ]
  },
  {
   "cell_type": "markdown",
   "metadata": {},
   "source": [
    "### Read the dataset "
   ]
  },
  {
   "cell_type": "markdown",
   "metadata": {},
   "source": [
    "#### Extract all the csv files with the '*-2020.csv' format"
   ]
  },
  {
   "cell_type": "code",
   "execution_count": 4,
   "metadata": {},
   "outputs": [],
   "source": [
    "extension = 'csv'\n",
    "\n",
    "all_filenames = [i for i in glob.glob('*-*-{}.{}'.format(2020,extension))]"
   ]
  },
  {
   "cell_type": "code",
   "execution_count": 5,
   "metadata": {},
   "outputs": [
    {
     "data": {
      "text/plain": [
       "301"
      ]
     },
     "execution_count": 5,
     "metadata": {},
     "output_type": "execute_result"
    }
   ],
   "source": [
    "len(all_filenames)"
   ]
  },
  {
   "cell_type": "code",
   "execution_count": 6,
   "metadata": {},
   "outputs": [
    {
     "data": {
      "text/plain": [
       "['02-26-2020.csv',\n",
       " '02-27-2020.csv',\n",
       " '06-07-2020.csv',\n",
       " '06-06-2020.csv',\n",
       " '10-01-2020.csv',\n",
       " '09-22-2020.csv',\n",
       " '09-23-2020.csv',\n",
       " '04-08-2020.csv',\n",
       " '04-09-2020.csv',\n",
       " '02-18-2020.csv',\n",
       " '02-19-2020.csv',\n",
       " '03-24-2020.csv',\n",
       " '03-25-2020.csv',\n",
       " '08-20-2020.csv',\n",
       " '08-21-2020.csv',\n",
       " '11-03-2020.csv',\n",
       " '11-02-2020.csv',\n",
       " '07-05-2020.csv',\n",
       " '07-04-2020.csv',\n",
       " '04-02-2020.csv',\n",
       " '04-03-2020.csv',\n",
       " '09-28-2020.csv',\n",
       " '07-31-2020.csv',\n",
       " '07-30-2020.csv',\n",
       " '09-29-2020.csv',\n",
       " '08-14-2020.csv',\n",
       " '08-15-2020.csv',\n",
       " '03-10-2020.csv',\n",
       " '03-11-2020.csv',\n",
       " '09-16-2020.csv',\n",
       " '09-17-2020.csv',\n",
       " '05-01-2020.csv',\n",
       " '11-09-2020.csv',\n",
       " '11-08-2020.csv',\n",
       " '02-12-2020.csv',\n",
       " '02-13-2020.csv',\n",
       " '10-16-2020.csv',\n",
       " '10-17-2020.csv',\n",
       " '05-23-2020.csv',\n",
       " '05-22-2020.csv',\n",
       " '08-09-2020.csv',\n",
       " '06-10-2020.csv',\n",
       " '06-11-2020.csv',\n",
       " '08-08-2020.csv',\n",
       " '04-21-2020.csv',\n",
       " '04-20-2020.csv',\n",
       " '10-28-2020.csv',\n",
       " '10-29-2020.csv',\n",
       " '07-12-2020.csv',\n",
       " '07-13-2020.csv',\n",
       " '11-14-2020.csv',\n",
       " '11-15-2020.csv',\n",
       " '03-07-2020.csv',\n",
       " '03-06-2020.csv',\n",
       " '08-03-2020.csv',\n",
       " '08-02-2020.csv',\n",
       " '05-29-2020.csv',\n",
       " '05-28-2020.csv',\n",
       " '04-15-2020.csv',\n",
       " '04-14-2020.csv',\n",
       " '07-26-2020.csv',\n",
       " '07-27-2020.csv',\n",
       " '02-05-2020.csv',\n",
       " '02-04-2020.csv',\n",
       " '05-17-2020.csv',\n",
       " '05-16-2020.csv',\n",
       " '06-24-2020.csv',\n",
       " '06-25-2020.csv',\n",
       " '10-22-2020.csv',\n",
       " '10-23-2020.csv',\n",
       " '09-01-2020.csv',\n",
       " '07-18-2020.csv',\n",
       " '07-19-2020.csv',\n",
       " '05-24-2020.csv',\n",
       " '05-25-2020.csv',\n",
       " '06-17-2020.csv',\n",
       " '06-16-2020.csv',\n",
       " '10-11-2020.csv',\n",
       " '10-10-2020.csv',\n",
       " '04-18-2020.csv',\n",
       " '04-19-2020.csv',\n",
       " '11-13-2020.csv',\n",
       " '11-12-2020.csv',\n",
       " '06-29-2020.csv',\n",
       " '08-30-2020.csv',\n",
       " '08-31-2020.csv',\n",
       " '06-28-2020.csv',\n",
       " '04-26-2020.csv',\n",
       " '04-27-2020.csv',\n",
       " '07-15-2020.csv',\n",
       " '07-14-2020.csv',\n",
       " '02-08-2020.csv',\n",
       " '02-09-2020.csv',\n",
       " '03-01-2020.csv',\n",
       " '04-12-2020.csv',\n",
       " '04-13-2020.csv',\n",
       " '07-21-2020.csv',\n",
       " '07-20-2020.csv',\n",
       " '08-04-2020.csv',\n",
       " '08-05-2020.csv',\n",
       " '02-02-2020.csv',\n",
       " '02-03-2020.csv',\n",
       " '01-31-2020.csv',\n",
       " '01-30-2020.csv',\n",
       " '10-25-2020.csv',\n",
       " '10-24-2020.csv',\n",
       " '09-06-2020.csv',\n",
       " '09-07-2020.csv',\n",
       " '05-10-2020.csv',\n",
       " '05-11-2020.csv',\n",
       " '06-23-2020.csv',\n",
       " '06-22-2020.csv',\n",
       " '02-21-2020.csv',\n",
       " '02-20-2020.csv',\n",
       " '10-06-2020.csv',\n",
       " '10-07-2020.csv',\n",
       " '09-25-2020.csv',\n",
       " '09-24-2020.csv',\n",
       " '08-19-2020.csv',\n",
       " '08-18-2020.csv',\n",
       " '06-01-2020.csv',\n",
       " '03-23-2020.csv',\n",
       " '03-22-2020.csv',\n",
       " '04-30-2020.csv',\n",
       " '07-02-2020.csv',\n",
       " '07-03-2020.csv',\n",
       " '08-27-2020.csv',\n",
       " '08-26-2020.csv',\n",
       " '11-04-2020.csv',\n",
       " '11-05-2020.csv',\n",
       " '08-13-2020.csv',\n",
       " '08-12-2020.csv',\n",
       " '04-05-2020.csv',\n",
       " '04-04-2020.csv',\n",
       " '03-17-2020.csv',\n",
       " '03-16-2020.csv',\n",
       " '05-07-2020.csv',\n",
       " '05-06-2020.csv',\n",
       " '07-08-2020.csv',\n",
       " '09-11-2020.csv',\n",
       " '09-10-2020.csv',\n",
       " '07-09-2020.csv',\n",
       " '02-15-2020.csv',\n",
       " '02-14-2020.csv',\n",
       " '01-26-2020.csv',\n",
       " '01-27-2020.csv',\n",
       " '03-29-2020.csv',\n",
       " '03-28-2020.csv',\n",
       " '03-04-2020.csv',\n",
       " '03-05-2020.csv',\n",
       " '06-19-2020.csv',\n",
       " '06-18-2020.csv',\n",
       " '08-01-2020.csv',\n",
       " '07-25-2020.csv',\n",
       " '07-24-2020.csv',\n",
       " '04-16-2020.csv',\n",
       " '04-17-2020.csv',\n",
       " '02-06-2020.csv',\n",
       " '02-07-2020.csv',\n",
       " '06-27-2020.csv',\n",
       " '06-26-2020.csv',\n",
       " '05-14-2020.csv',\n",
       " '05-15-2020.csv',\n",
       " '04-28-2020.csv',\n",
       " '04-29-2020.csv',\n",
       " '10-21-2020.csv',\n",
       " '10-20-2020.csv',\n",
       " '09-02-2020.csv',\n",
       " '09-03-2020.csv',\n",
       " '10-15-2020.csv',\n",
       " '10-14-2020.csv',\n",
       " '06-13-2020.csv',\n",
       " '06-12-2020.csv',\n",
       " '05-20-2020.csv',\n",
       " '05-21-2020.csv',\n",
       " '09-08-2020.csv',\n",
       " '07-11-2020.csv',\n",
       " '07-10-2020.csv',\n",
       " '09-09-2020.csv',\n",
       " '04-22-2020.csv',\n",
       " '04-23-2020.csv',\n",
       " '11-17-2020.csv',\n",
       " '11-16-2020.csv',\n",
       " '03-30-2020.csv',\n",
       " '03-31-2020.csv',\n",
       " '10-08-2020.csv',\n",
       " '10-09-2020.csv',\n",
       " '04-01-2020.csv',\n",
       " '08-17-2020.csv',\n",
       " '08-16-2020.csv',\n",
       " '03-13-2020.csv',\n",
       " '03-12-2020.csv',\n",
       " '09-15-2020.csv',\n",
       " '09-14-2020.csv',\n",
       " '08-29-2020.csv',\n",
       " '06-30-2020.csv',\n",
       " '08-28-2020.csv',\n",
       " '05-03-2020.csv',\n",
       " '05-02-2020.csv',\n",
       " '01-22-2020.csv',\n",
       " '01-23-2020.csv',\n",
       " '02-11-2020.csv',\n",
       " '02-10-2020.csv',\n",
       " '02-25-2020.csv',\n",
       " '02-24-2020.csv',\n",
       " '03-19-2020.csv',\n",
       " '03-18-2020.csv',\n",
       " '06-04-2020.csv',\n",
       " '06-05-2020.csv',\n",
       " '10-02-2020.csv',\n",
       " '10-03-2020.csv',\n",
       " '09-21-2020.csv',\n",
       " '09-20-2020.csv',\n",
       " '01-28-2020.csv',\n",
       " '01-29-2020.csv',\n",
       " '03-27-2020.csv',\n",
       " '03-26-2020.csv',\n",
       " '05-09-2020.csv',\n",
       " '05-08-2020.csv',\n",
       " '08-23-2020.csv',\n",
       " '08-22-2020.csv',\n",
       " '11-01-2020.csv',\n",
       " '07-06-2020.csv',\n",
       " '07-07-2020.csv',\n",
       " '06-09-2020.csv',\n",
       " '08-10-2020.csv',\n",
       " '08-11-2020.csv',\n",
       " '06-08-2020.csv',\n",
       " '04-06-2020.csv',\n",
       " '04-07-2020.csv',\n",
       " '02-28-2020.csv',\n",
       " '02-29-2020.csv',\n",
       " '03-14-2020.csv',\n",
       " '03-15-2020.csv',\n",
       " '05-04-2020.csv',\n",
       " '05-05-2020.csv',\n",
       " '09-12-2020.csv',\n",
       " '09-13-2020.csv',\n",
       " '10-31-2020.csv',\n",
       " '10-30-2020.csv',\n",
       " '01-25-2020.csv',\n",
       " '01-24-2020.csv',\n",
       " '02-16-2020.csv',\n",
       " '02-17-2020.csv',\n",
       " '02-22-2020.csv',\n",
       " '02-23-2020.csv',\n",
       " '10-05-2020.csv',\n",
       " '10-04-2020.csv',\n",
       " '09-26-2020.csv',\n",
       " '09-27-2020.csv',\n",
       " '06-03-2020.csv',\n",
       " '06-02-2020.csv',\n",
       " '05-30-2020.csv',\n",
       " '05-31-2020.csv',\n",
       " '03-20-2020.csv',\n",
       " '03-21-2020.csv',\n",
       " '07-01-2020.csv',\n",
       " '09-18-2020.csv',\n",
       " '09-19-2020.csv',\n",
       " '08-24-2020.csv',\n",
       " '08-25-2020.csv',\n",
       " '11-07-2020.csv',\n",
       " '11-06-2020.csv',\n",
       " '03-03-2020.csv',\n",
       " '03-02-2020.csv',\n",
       " '07-22-2020.csv',\n",
       " '07-23-2020.csv',\n",
       " '10-18-2020.csv',\n",
       " '10-19-2020.csv',\n",
       " '04-11-2020.csv',\n",
       " '04-10-2020.csv',\n",
       " '08-07-2020.csv',\n",
       " '08-06-2020.csv',\n",
       " '02-01-2020.csv',\n",
       " '10-26-2020.csv',\n",
       " '10-27-2020.csv',\n",
       " '09-05-2020.csv',\n",
       " '09-04-2020.csv',\n",
       " '06-20-2020.csv',\n",
       " '06-21-2020.csv',\n",
       " '05-13-2020.csv',\n",
       " '05-12-2020.csv',\n",
       " '06-14-2020.csv',\n",
       " '06-15-2020.csv',\n",
       " '05-27-2020.csv',\n",
       " '05-26-2020.csv',\n",
       " '07-28-2020.csv',\n",
       " '09-30-2020.csv',\n",
       " '07-29-2020.csv',\n",
       " '10-12-2020.csv',\n",
       " '10-13-2020.csv',\n",
       " '03-09-2020.csv',\n",
       " '03-08-2020.csv',\n",
       " '05-19-2020.csv',\n",
       " '05-18-2020.csv',\n",
       " '11-10-2020.csv',\n",
       " '11-11-2020.csv',\n",
       " '07-16-2020.csv',\n",
       " '07-17-2020.csv',\n",
       " '04-25-2020.csv',\n",
       " '04-24-2020.csv']"
      ]
     },
     "execution_count": 6,
     "metadata": {},
     "output_type": "execute_result"
    }
   ],
   "source": [
    "all_filenames # not in a sorted manner"
   ]
  },
  {
   "cell_type": "code",
   "execution_count": 7,
   "metadata": {},
   "outputs": [
    {
     "name": "stdout",
     "output_type": "stream",
     "text": [
      "{'01-22-2020.csv': 'Province/State,Country/Region,Last Update,Confirmed,Deaths,Recovered\\n', '03-01-2020.csv': 'Province/State,Country/Region,Last Update,Confirmed,Deaths,Recovered,Latitude,Longitude\\n', '03-22-2020.csv': 'FIPS,Admin2,Province_State,Country_Region,Last_Update,Lat,Long_,Confirmed,Deaths,Recovered,Active,Combined_Key\\n', '05-29-2020.csv': 'FIPS,Admin2,Province_State,Country_Region,Last_Update,Lat,Long_,Confirmed,Deaths,Recovered,Active,Combined_Key,Incidence_Rate,Case-Fatality_Ratio\\n', '11-09-2020.csv': 'FIPS,Admin2,Province_State,Country_Region,Last_Update,Lat,Long_,Confirmed,Deaths,Recovered,Active,Combined_Key,Incident_Rate,Case_Fatality_Ratio\\n'}\n"
     ]
    }
   ],
   "source": [
    "all_filenames.sort()\n",
    "for i in range(len(all_filenames)):\n",
    "    if i+1<len(all_filenames):\n",
    "        t1 = open(all_filenames[i], 'r', encoding='utf-8-sig')\n",
    "        t2 = open(all_filenames[i+1], 'r', encoding='utf-8-sig')\n",
    "        fileone = t1.readlines()\n",
    "        filetwo = t2.readlines()\n",
    "        t1.close()\n",
    "        t2.close()\n",
    "        if i==0:\n",
    "            d={t1.name:fileone[0]} \n",
    "        if fileone[0]!=filetwo[0]:\n",
    "            d[t2.name]=filetwo[0]\n",
    "\n",
    "print(d)\n",
    "        "
   ]
  },
  {
   "cell_type": "markdown",
   "metadata": {},
   "source": [
    "#### dictionary d has all the dates as keys and columns as values where the column names have changed in filenames , so that we can see the change in the columns file name-wise"
   ]
  },
  {
   "cell_type": "code",
   "execution_count": 8,
   "metadata": {},
   "outputs": [
    {
     "data": {
      "text/plain": [
       "01-22-2020.csv    Province/State,Country/Region,Last Update,Conf...\n",
       "03-01-2020.csv    Province/State,Country/Region,Last Update,Conf...\n",
       "03-22-2020.csv    FIPS,Admin2,Province_State,Country_Region,Last...\n",
       "05-29-2020.csv    FIPS,Admin2,Province_State,Country_Region,Last...\n",
       "11-09-2020.csv    FIPS,Admin2,Province_State,Country_Region,Last...\n",
       "dtype: object"
      ]
     },
     "execution_count": 8,
     "metadata": {},
     "output_type": "execute_result"
    }
   ],
   "source": [
    "col_change=pd.Series(d)\n",
    "col_change"
   ]
  },
  {
   "cell_type": "markdown",
   "metadata": {},
   "source": [
    "#### since the columns are changing , we need to standardize them and 'combined_key' column has 'city,state,country' values which are already present in other columns so removing it"
   ]
  },
  {
   "cell_type": "code",
   "execution_count": 9,
   "metadata": {},
   "outputs": [],
   "source": [
    "def combined(f):\n",
    "    df=pd.read_csv(f)\n",
    "    df.rename(columns={'Province/State':'Province_State','Country/Region':'Country_Region',\n",
    "                      'Last Update':'Last_Update','Lat':'Latitude','Long_':'Longitude',\n",
    "                       'Case-Fatality_Ratio':'Case_Fatality_Ratio',\n",
    "              'Incidence_Rate':'Incident_Rate'},inplace=True)\n",
    "    if 'Combined_Key' in df.columns:\n",
    "        df.drop('Combined_Key', axis=1, inplace=True)\n",
    "\n",
    "    return df\n",
    "    "
   ]
  },
  {
   "cell_type": "markdown",
   "metadata": {},
   "source": [
    "#### set the order of columns "
   ]
  },
  {
   "cell_type": "code",
   "execution_count": 10,
   "metadata": {
    "scrolled": true
   },
   "outputs": [],
   "source": [
    "combined_csv=pd.concat([combined(x) for x in all_filenames])\n",
    "combined_csv=combined_csv[['FIPS','Country_Region','Province_State','Admin2','Latitude','Longitude',\n",
    "                           'Last_Update','Confirmed','Deaths','Recovered','Active','Incident_Rate',\n",
    "                           'Case_Fatality_Ratio']]"
   ]
  },
  {
   "cell_type": "code",
   "execution_count": 12,
   "metadata": {},
   "outputs": [
    {
     "data": {
      "text/plain": [
       "'1/22/2020 17:00'"
      ]
     },
     "execution_count": 12,
     "metadata": {},
     "output_type": "execute_result"
    }
   ],
   "source": [
    "combined_csv.Last_Update.min()"
   ]
  },
  {
   "cell_type": "code",
   "execution_count": 13,
   "metadata": {},
   "outputs": [],
   "source": [
    "combined_csv.Last_Update=combined_csv.Last_Update.astype('datetime64[ns]')"
   ]
  },
  {
   "cell_type": "code",
   "execution_count": 14,
   "metadata": {},
   "outputs": [
    {
     "name": "stdout",
     "output_type": "stream",
     "text": [
      "<class 'pandas.core.frame.DataFrame'>\n",
      "Int64Index: 895701 entries, 0 to 3973\n",
      "Data columns (total 13 columns):\n",
      " #   Column               Non-Null Count   Dtype         \n",
      "---  ------               --------------   -----         \n",
      " 0   FIPS                 748915 non-null  float64       \n",
      " 1   Country_Region       895701 non-null  object        \n",
      " 2   Province_State       851048 non-null  object        \n",
      " 3   Admin2               750308 non-null  object        \n",
      " 4   Latitude             875565 non-null  float64       \n",
      " 5   Longitude            875565 non-null  float64       \n",
      " 6   Last_Update          895701 non-null  datetime64[ns]\n",
      " 7   Confirmed            895682 non-null  float64       \n",
      " 8   Deaths               895259 non-null  float64       \n",
      " 9   Recovered            895310 non-null  float64       \n",
      " 10  Active               887687 non-null  float64       \n",
      " 11  Incident_Rate        659572 non-null  float64       \n",
      " 12  Case_Fatality_Ratio  664525 non-null  float64       \n",
      "dtypes: datetime64[ns](1), float64(9), object(3)\n",
      "memory usage: 95.7+ MB\n"
     ]
    }
   ],
   "source": [
    "combined_csv.info()"
   ]
  },
  {
   "cell_type": "code",
   "execution_count": 15,
   "metadata": {},
   "outputs": [],
   "source": [
    "combined_csv.to_csv( \"combined_csv.csv\", index=False, encoding='utf-8-sig')"
   ]
  },
  {
   "cell_type": "code",
   "execution_count": 16,
   "metadata": {},
   "outputs": [
    {
     "data": {
      "text/plain": [
       "(895701, 13)"
      ]
     },
     "execution_count": 16,
     "metadata": {},
     "output_type": "execute_result"
    }
   ],
   "source": [
    "combined_csv.shape"
   ]
  },
  {
   "cell_type": "code",
   "execution_count": null,
   "metadata": {},
   "outputs": [],
   "source": []
  }
 ],
 "metadata": {
  "kernelspec": {
   "display_name": "Python 3",
   "language": "python",
   "name": "python3"
  },
  "language_info": {
   "codemirror_mode": {
    "name": "ipython",
    "version": 3
   },
   "file_extension": ".py",
   "mimetype": "text/x-python",
   "name": "python",
   "nbconvert_exporter": "python",
   "pygments_lexer": "ipython3",
   "version": "3.8.3"
  }
 },
 "nbformat": 4,
 "nbformat_minor": 4
}
